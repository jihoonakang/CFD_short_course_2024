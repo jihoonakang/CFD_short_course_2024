{
 "cells": [
  {
   "cell_type": "markdown",
   "metadata": {
    "slideshow": {
     "slide_type": "slide"
    }
   },
   "source": [
    "한국전산유체공학회 제 14차 CFD 단기강좌 (2024.05.29.-2024.05.30.)\n",
    "\n",
    "파이선 병렬프로그래밍: 수치 해석 예제 실습\n",
    "===================================================\n",
    "\n",
    "\n",
    "### 한국과학기술정보연구원 강지훈\n",
    "\n",
    "***\n",
    "\n",
    "### 필요 패키지\n",
    "\n",
    "  - mpi4py\n",
    "  - numpy\n",
    "  - random\n",
    "  - scikit-learn\n",
    "  - matplotlib\n",
    "\n",
    "***\n"
   ]
  },
  {
   "cell_type": "markdown",
   "metadata": {
    "slideshow": {
     "slide_type": "slide"
    }
   },
   "source": [
    "# 1. 벡터와 행렬 연산"
   ]
  },
  {
   "cell_type": "markdown",
   "metadata": {
    "slideshow": {
     "slide_type": "slide"
    }
   },
   "source": [
    "## 1.1. 행렬/벡터 만들기"
   ]
  },
  {
   "cell_type": "code",
   "execution_count": 47,
   "metadata": {
    "slideshow": {
     "slide_type": "slide"
    }
   },
   "outputs": [],
   "source": [
    "import numpy as np\n",
    "\n",
    "n = 10\n",
    "\n",
    "A = np.random.rand(n, n)\n",
    "B = np.random.rand(n, n)\n",
    "v = np.random.rand(n)\n",
    "w = np.random.rand(n)\n",
    "\n",
    "np.save(\"A\", A)\n",
    "np.save(\"B\", B)\n",
    "np.save(\"v\", v)\n",
    "np.save(\"w\", w)\n",
    "\n"
   ]
  },
  {
   "cell_type": "markdown",
   "metadata": {
    "slideshow": {
     "slide_type": "slide"
    }
   },
   "source": [
    "## 1.2. 벡터 내적"
   ]
  },
  {
   "cell_type": "markdown",
   "metadata": {
    "slideshow": {
     "slide_type": "slide"
    }
   },
   "source": [
    "1. 순차코드\n",
    "   \n",
    "   <img src = \"images/image01.png\">"
   ]
  },
  {
   "cell_type": "markdown",
   "metadata": {},
   "source": [
    "2. 병렬코드 - 등분할\n",
    "\n",
    "  <img src = \"images/image02.png\">"
   ]
  },
  {
   "cell_type": "code",
   "execution_count": 48,
   "metadata": {},
   "outputs": [
    {
     "name": "stdout",
     "output_type": "stream",
     "text": [
      "Overwriting v.py\n"
     ]
    }
   ],
   "source": [
    "%%writefile v.py\n",
    "import numpy as np\n",
    "from mpi4py import MPI\n",
    "\n",
    "comm = MPI.COMM_WORLD\n",
    "size = comm.Get_size()\n",
    "rank = comm.Get_rank()\n",
    "\n",
    "if rank == 0:\n",
    "    v = np.load(\"v.npy\")\n",
    "    w = np.load(\"w.npy\")\n",
    "    n = v.size\n",
    "else :\n",
    "    v = None\n",
    "    w = None\n",
    "    n = 0\n",
    "\n",
    "n = comm.bcast(n, root = 0)\n",
    "\n",
    "\n",
    "##### n_row 크기 정하기 \n",
    "n_row = int(n / size)# FIX ME\n",
    "\n",
    "v_row = np.empty(n_row, dtype = np.float64)\n",
    "w_row = np.empty(n_row, dtype = np.float64)\n",
    "\n",
    "##### Scatter 함수 호출\n",
    "comm.Scatter(v, v_row, root = 0) # FIX ME\n",
    "comm.Scatter(w, w_row, root = 0) # FIX ME\n",
    "\n",
    "##### 프로세스별 Local sum \n",
    "s = np.dot(v_row,w_row) # FIX ME\n",
    "\n",
    "##### reduce를 이용한 Global sum\n",
    "s_all = comm.allreduce(s, MPI.SUM) # FIX ME\n",
    "\n",
    "#if rank == 1:\n",
    "print(rank, s_all)\n"
   ]
  },
  {
   "cell_type": "code",
   "execution_count": 49,
   "metadata": {},
   "outputs": [
    {
     "name": "stdout",
     "output_type": "stream",
     "text": [
      "0 2.2197261999963946\n",
      "1 2.2197261999963946\n"
     ]
    }
   ],
   "source": [
    "! mpiexec -np 2 python v.py"
   ]
  },
  {
   "cell_type": "markdown",
   "metadata": {},
   "source": [
    "3. 병렬코드 - 비등분할\n",
    "\n",
    "    <img src = \"images/image03.png\">"
   ]
  },
  {
   "cell_type": "code",
   "execution_count": 50,
   "metadata": {},
   "outputs": [
    {
     "name": "stdout",
     "output_type": "stream",
     "text": [
      "Overwriting v_var.py\n"
     ]
    }
   ],
   "source": [
    "%%writefile v_var.py\n",
    "import numpy as np\n",
    "from mpi4py import MPI\n",
    "\n",
    "def para_range(n, size, rank) :\n",
    "    iwork = divmod(n, size) \n",
    "    ista = rank * iwork[0] + min(rank, iwork[1])\n",
    "    iend = ista + iwork[0] - 1\n",
    "    if iwork[1] > rank :\n",
    "        iend = iend + 1\n",
    "    return ista, iend\n",
    "\n",
    "comm = MPI.COMM_WORLD\n",
    "size = comm.Get_size()\n",
    "rank = comm.Get_rank()\n",
    "\n",
    "if rank == 0:\n",
    "    v = np.load(\"v.npy\")\n",
    "    w = np.load(\"w.npy\")\n",
    "    n = v.size\n",
    "else :\n",
    "    v = None\n",
    "    w = None\n",
    "    n = 0\n",
    "\n",
    "n = comm.bcast(n, root = 0)\n",
    "\n",
    "##### 프로세스별 범위 할당\n",
    "ista, iend = para_range(n, size, rank) # FIX ME\n",
    "n_row =  (iend - ista + 1) # FIX ME\n",
    "\n",
    "n_rows = comm.gather(n_row, root = 0)\n",
    "\n",
    "v_row = np.empty(n_row, dtype = np.float64)\n",
    "w_row = np.empty(n_row, dtype = np.float64)\n",
    "\n",
    "##### Scatter\n",
    "comm.Scatterv((v, n_rows), v_row, root = 0) #FIX ME\n",
    "comm.Scatterv((w, n_rows), w_row, root = 0) #FIX ME\n",
    "\n",
    "s = np.dot(v_row,w_row)\n",
    "\n",
    "##### reduce를 이용한 Global sum\n",
    "s_all = comm.reduce(s, MPI.SUM, root = 0) #FIX ME\n",
    "\n",
    "if rank == 0:\n",
    "    print(n_rows)\n",
    "    print(s_all)\n"
   ]
  },
  {
   "cell_type": "code",
   "execution_count": 51,
   "metadata": {},
   "outputs": [
    {
     "name": "stdout",
     "output_type": "stream",
     "text": [
      "[4, 3, 3]\n",
      "2.2197261999963946\n"
     ]
    }
   ],
   "source": [
    "! mpirun -np 3 python v_var.py"
   ]
  },
  {
   "cell_type": "markdown",
   "metadata": {},
   "source": [
    "4. para_range 저장"
   ]
  },
  {
   "cell_type": "code",
   "execution_count": 52,
   "metadata": {},
   "outputs": [
    {
     "name": "stdout",
     "output_type": "stream",
     "text": [
      "Overwriting tools.py\n"
     ]
    }
   ],
   "source": [
    "%%writefile tools.py\n",
    "\n",
    "def para_range(n, size, rank) :\n",
    "    iwork = divmod(n, size) \n",
    "    ista = rank * iwork[0] + min(rank, iwork[1])\n",
    "    iend = ista + iwork[0] - 1\n",
    "    if iwork[1] > rank :\n",
    "        iend = iend + 1\n",
    "    return ista, iend\n"
   ]
  },
  {
   "cell_type": "markdown",
   "metadata": {},
   "source": [
    "## 1.3. 행렬-벡터곱"
   ]
  },
  {
   "cell_type": "markdown",
   "metadata": {},
   "source": [
    "1. 순차코드\n",
    "   \n",
    "    <img src = \"images/image04.png\">"
   ]
  },
  {
   "cell_type": "code",
   "execution_count": 53,
   "metadata": {},
   "outputs": [
    {
     "name": "stdout",
     "output_type": "stream",
     "text": [
      "[2.45150902 3.01583514 2.74146952 3.12538633 2.40105885 2.3072745\n",
      " 2.67861769 2.66861108 1.99255701 2.50945972]\n"
     ]
    }
   ],
   "source": [
    "A = np.load(\"A.npy\")\n",
    "v = np.load(\"v.npy\")\n",
    "\n",
    "b = np.matmul(A,v)\n",
    "print (b)\n"
   ]
  },
  {
   "cell_type": "markdown",
   "metadata": {},
   "source": [
    "2. 행렬의 행 등분할\n",
    "\n",
    "    <img src = \"images/image05.png\">"
   ]
  },
  {
   "cell_type": "code",
   "execution_count": 54,
   "metadata": {},
   "outputs": [
    {
     "name": "stdout",
     "output_type": "stream",
     "text": [
      "Overwriting Av.py\n"
     ]
    }
   ],
   "source": [
    "%%writefile Av.py\n",
    "\n",
    "import numpy as np\n",
    "from mpi4py import MPI\n",
    "\n",
    "comm = MPI.COMM_WORLD\n",
    "\n",
    "rank = comm.Get_rank()\n",
    "size = comm.Get_size()\n",
    "\n",
    "if rank == 0 :\n",
    "    A = np.load(\"A.npy\")\n",
    "    v = np.load(\"v.npy\")\n",
    "    n = v.size\n",
    "    n = comm.bcast(n, root = 0)\n",
    "else :\n",
    "    A = None\n",
    "    n = 0\n",
    "    n = comm.bcast(n, root = 0)\n",
    "    v = np.empty(n, dtype = np.float64)\n",
    "\n",
    "n_row = int(n / size)\n",
    "\n",
    "A_row = np.empty((n_row, n), dtype = np.float64)\n",
    "\n",
    "##### 행렬의 행 분할\n",
    "comm.Scatter(A, A_row, root = 0) #FIX ME\n",
    "\n",
    "comm.Bcast(v, root = 0)\n",
    "\n",
    "##### 분할된 행렬과의 연산\n",
    "b = np.matmul(A_row,v) #FIX ME\n",
    "\n",
    "print(b, rank)"
   ]
  },
  {
   "cell_type": "code",
   "execution_count": 55,
   "metadata": {},
   "outputs": [
    {
     "name": "stdout",
     "output_type": "stream",
     "text": [
      "[2.45150902 3.01583514 2.74146952 3.12538633 2.40105885] 0\n",
      "[2.3072745  2.67861769 2.66861108 1.99255701 2.50945972] 1\n"
     ]
    }
   ],
   "source": [
    "! mpirun -np 2 python Av.py"
   ]
  },
  {
   "cell_type": "markdown",
   "metadata": {},
   "source": [
    "3. 행렬의 행 비등분할\n",
    "\n",
    "    <img src = \"images/image06.png\">"
   ]
  },
  {
   "cell_type": "code",
   "execution_count": 56,
   "metadata": {},
   "outputs": [
    {
     "name": "stdout",
     "output_type": "stream",
     "text": [
      "Overwriting Avar.py\n"
     ]
    }
   ],
   "source": [
    "%%writefile Avar.py\n",
    "\n",
    "# Matrix A의 Row decomposition\n",
    "\n",
    "import numpy as np\n",
    "from mpi4py import MPI\n",
    "from tools import para_range\n",
    "\n",
    "comm = MPI.COMM_WORLD\n",
    "\n",
    "rank = comm.Get_rank()\n",
    "size = comm.Get_size()\n",
    "\n",
    "if rank == 0 :\n",
    "    A = np.load(\"A.npy\")\n",
    "    v = np.load(\"v.npy\")\n",
    "    n = v.size\n",
    "    n = comm.bcast(n, root = 0)\n",
    "\n",
    "else :\n",
    "    A = None\n",
    "    n = 0\n",
    "    n = comm.bcast(n, root = 0)\n",
    "    v = np.empty(n, dtype = np.float64)\n",
    "\n",
    "ista, iend = para_range(n, size, rank)\n",
    "\n",
    "n_row = (iend - ista + 1)\n",
    "\n",
    "A_row = np.empty((n_row, n), dtype = np.float64)\n",
    "\n",
    "##### 행렬의 행 분할 및 각 프로세스별 크기 지정\n",
    "n_rows = comm.gather(n_row * n, root = 0) #FIX ME\n",
    "\n",
    "comm.Scatterv((A, n_rows), A_row, root = 0) #FIX ME\n",
    "comm.Bcast(v, root = 0)\n",
    "\n",
    "b = np.matmul(A_row,v)\n",
    "\n",
    "print(b, rank)"
   ]
  },
  {
   "cell_type": "code",
   "execution_count": 57,
   "metadata": {},
   "outputs": [
    {
     "name": "stdout",
     "output_type": "stream",
     "text": [
      "[2.40105885 2.3072745  2.67861769] 1\n",
      "[2.66861108 1.99255701 2.50945972] 2\n",
      "[2.45150902 3.01583514 2.74146952 3.12538633] 0\n"
     ]
    }
   ],
   "source": [
    "! mpirun -np 3 python Avar.py"
   ]
  },
  {
   "cell_type": "markdown",
   "metadata": {},
   "source": [
    "4. 행렬/벡터의 행 비등분할\n",
    "\n",
    "    <img src = \"images/image07.png\">"
   ]
  },
  {
   "cell_type": "code",
   "execution_count": 58,
   "metadata": {},
   "outputs": [
    {
     "name": "stdout",
     "output_type": "stream",
     "text": [
      "Overwriting Av_var.py\n"
     ]
    }
   ],
   "source": [
    "%%writefile Av_var.py\n",
    "\n",
    "# Matrix A의 Row decomposition\n",
    "\n",
    "from tools import para_range\n",
    "import numpy as np\n",
    "from mpi4py import MPI\n",
    "\n",
    "comm = MPI.COMM_WORLD\n",
    "\n",
    "rank = comm.Get_rank()\n",
    "size = comm.Get_size()\n",
    "\n",
    "if rank == 0 :\n",
    "    A = np.load(\"A.npy\")\n",
    "    v = np.load(\"v.npy\")\n",
    "    n = v.size\n",
    "    n = comm.bcast(n, root = 0)\n",
    "\n",
    "else :\n",
    "    A = None\n",
    "    v = None\n",
    "    n = 0\n",
    "    n = comm.bcast(n, root = 0)\n",
    "\n",
    "ista, iend = para_range(n, size, rank)\n",
    "\n",
    "n_row = (iend - ista + 1)\n",
    "\n",
    "A_row = np.empty((n_row, n), dtype = np.float64)\n",
    "v_row = np.empty(n_row, dtype = np.float64)\n",
    "\n",
    "##### 행렬의 행 분할 및 각 프로세스별 크기 지정\n",
    "n_chunks = comm.gather(n_row * n, root = 0) #FIX ME\n",
    "n_rows = comm.allgather(n_row) #FIX ME\n",
    "\n",
    "comm.Scatterv([A, n_chunks], A_row, root = 0) #FIX ME\n",
    "comm.Scatterv([v, n_rows], v_row, root = 0) #FIX ME\n",
    "\n",
    "##### 분할된 벡터 곱 범위 지정\n",
    "vsta_list = []\n",
    "vend_list = []\n",
    "\n",
    "for i in range(size) :\n",
    "    vsta_list.append(sum(n_rows[:i])) #FIX ME\n",
    "    vend_list.append(sum(n_rows[:i])+n_rows[i]) #FIX ME\n",
    "\n",
    "##### Local MV (최초 자신의 벡터부분)\n",
    "b = np.matmul(A_row[:,vsta_list[rank]:vend_list[rank]], v_row) #FIX ME\n",
    "\n",
    "##### 송수신 프로세스 지정\n",
    "inext = rank + 1 if rank < size - 1 else 0 #FIX ME\n",
    "iprev = rank - 1 if rank > 0 else size - 1 #FIX ME\n",
    "\n",
    "for i in range(size - 1) :\n",
    "    iloc = iprev - i if iprev >= i else iprev - i + size\n",
    "    v_recv = np.empty(n_rows[iloc], dtype = np.float64)\n",
    "    ##### 통신\n",
    "    comm.Sendrecv(v_row, inext, 1, v_recv, iprev, 1) #FIX ME\n",
    "    v_row = np.copy(v_recv)\n",
    "    b += np.matmul(A_row[:,vsta_list[iloc]:vend_list[iloc]], v_row)\n",
    "\n",
    "print(b, rank)"
   ]
  },
  {
   "cell_type": "code",
   "execution_count": 59,
   "metadata": {},
   "outputs": [
    {
     "name": "stdout",
     "output_type": "stream",
     "text": [
      "[2.40105885 2.3072745  2.67861769] 1\n",
      "[2.66861108 1.99255701 2.50945972] 2\n",
      "[2.45150902 3.01583514 2.74146952 3.12538633] 0\n"
     ]
    }
   ],
   "source": [
    "! mpirun -np 3 python Av_var.py"
   ]
  },
  {
   "cell_type": "markdown",
   "metadata": {},
   "source": [
    "## 3. 행렬-행렬 곱"
   ]
  },
  {
   "cell_type": "markdown",
   "metadata": {},
   "source": [
    "1. 순차코드\n",
    "\n",
    "    <img src = \"images/image08.png\">"
   ]
  },
  {
   "cell_type": "code",
   "execution_count": 60,
   "metadata": {},
   "outputs": [
    {
     "name": "stdout",
     "output_type": "stream",
     "text": [
      "[[2.6826069  2.65309421 1.95489435 2.15408649 2.39436101 2.80342462\n",
      "  1.41995297 2.79304207 2.41664541 1.96724264]\n",
      " [2.97310408 3.50137103 3.0442885  2.79891636 2.55238991 3.38425573\n",
      "  1.38250451 3.78127846 3.09987314 2.54323953]\n",
      " [3.17897934 3.20706715 2.60027798 2.93007947 3.08054083 2.57694642\n",
      "  1.52038116 3.08103388 3.03599842 2.99806167]\n",
      " [3.36838944 3.56373124 3.50546146 3.49957622 3.67368927 3.80750494\n",
      "  1.53323986 3.97391478 3.49488622 3.1345249 ]\n",
      " [2.53074187 2.74557879 2.01868724 2.44577043 2.54219079 3.15861836\n",
      "  1.46197454 2.49602078 2.27413066 2.14442767]\n",
      " [2.34483477 2.4647671  1.92909959 1.93603212 2.01298781 2.34926266\n",
      "  1.11137097 2.94240057 1.9732404  1.92400967]\n",
      " [3.50843192 3.01114581 2.38027008 2.13631684 2.35315996 3.13212192\n",
      "  1.60384757 3.50379224 2.75963474 2.60156954]\n",
      " [3.55933885 2.68755534 2.91479657 2.68343096 3.13622667 4.24653505\n",
      "  1.34100071 3.98939321 3.14327613 2.59644317]\n",
      " [2.9762361  2.43331644 1.82262527 1.66563843 2.05569196 2.51507972\n",
      "  1.33625425 2.66109537 2.53598422 1.9066874 ]\n",
      " [2.99319349 3.07641558 2.20794542 2.29301705 2.79072711 3.03242235\n",
      "  1.46365289 2.87137779 2.18693529 2.71765557]]\n"
     ]
    }
   ],
   "source": [
    "A = np.load(\"A.npy\")\n",
    "B = np.load(\"B.npy\")\n",
    "\n",
    "C = np.matmul(A, B)\n",
    "print (C)\n"
   ]
  },
  {
   "cell_type": "markdown",
   "metadata": {},
   "source": [
    "2. 행렬A의 행분할\n",
    "\n",
    "    <img src = \"images/image09.png\">"
   ]
  },
  {
   "cell_type": "code",
   "execution_count": 61,
   "metadata": {},
   "outputs": [
    {
     "name": "stdout",
     "output_type": "stream",
     "text": [
      "Overwriting AB.py\n"
     ]
    }
   ],
   "source": [
    "%%writefile AB.py\n",
    "\n",
    "import numpy as np\n",
    "from mpi4py import MPI\n",
    "\n",
    "comm = MPI.COMM_WORLD\n",
    "\n",
    "rank = comm.Get_rank()\n",
    "size = comm.Get_size()\n",
    "\n",
    "if rank == 0 :\n",
    "    A = np.load(\"A.npy\")\n",
    "    B = np.load(\"B.npy\")\n",
    "    n = A[0].size\n",
    "    n = comm.bcast(n, root = 0)\n",
    "\n",
    "else :\n",
    "    n = 0\n",
    "    n = comm.bcast(n, root = 0)\n",
    "    A = None\n",
    "    B = np.empty((n, n), dtype = np.float64)\n",
    "\n",
    "n_row = int(n / size)\n",
    "\n",
    "A_row = np.empty((n_row, n), dtype = np.float64)\n",
    "\n",
    "##### 행렬 A의 분할\n",
    "comm.Scatter(A, A_row, root = 0) #FIX ME\n",
    "comm.Bcast(B, root = 0)\n",
    "\n",
    "C = np.matmul(A_row,B)\n",
    "\n",
    "print(C, rank)"
   ]
  },
  {
   "cell_type": "code",
   "execution_count": 62,
   "metadata": {},
   "outputs": [
    {
     "name": "stdout",
     "output_type": "stream",
     "text": [
      "[[2.34483477 2.4647671  1.92909959 1.93603212 2.01298781 2.34926266\n",
      "  1.11137097 2.94240057 1.9732404  1.92400967]\n",
      " [3.50843192 3.01114581 2.38027008 2.13631684 2.35315996 3.13212192\n",
      "  1.60384757 3.50379224 2.75963474 2.60156954]\n",
      " [3.55933885 2.68755534 2.91479657 2.68343096 3.13622667 4.24653505\n",
      "  1.34100071 3.98939321 3.14327613 2.59644317]\n",
      " [2.9762361  2.43331644 1.82262527 1.66563843 2.05569196 2.51507972\n",
      "  1.33625425 2.66109537 2.53598422 1.9066874 ]\n",
      " [2.99319349 3.07641558 2.20794542 2.29301705 2.79072711 3.03242235\n",
      "  1.46365289 2.87137779 2.18693529 2.71765557]] 1\n",
      "[[2.6826069  2.65309421 1.95489435 2.15408649 2.39436101 2.80342462\n",
      "  1.41995297 2.79304207 2.41664541 1.96724264]\n",
      " [2.97310408 3.50137103 3.0442885  2.79891636 2.55238991 3.38425573\n",
      "  1.38250451 3.78127846 3.09987314 2.54323953]\n",
      " [3.17897934 3.20706715 2.60027798 2.93007947 3.08054083 2.57694642\n",
      "  1.52038116 3.08103388 3.03599842 2.99806167]\n",
      " [3.36838944 3.56373124 3.50546146 3.49957622 3.67368927 3.80750494\n",
      "  1.53323986 3.97391478 3.49488622 3.1345249 ]\n",
      " [2.53074187 2.74557879 2.01868724 2.44577043 2.54219079 3.15861836\n",
      "  1.46197454 2.49602078 2.27413066 2.14442767]] 0\n"
     ]
    }
   ],
   "source": [
    "! mpirun -np 2 python AB.py"
   ]
  },
  {
   "cell_type": "markdown",
   "metadata": {},
   "source": [
    "3. 행렬A의 행분할 (비등분할)\n",
    "\n",
    "    <img src = \"images/image10.png\">"
   ]
  },
  {
   "cell_type": "code",
   "execution_count": 63,
   "metadata": {},
   "outputs": [
    {
     "name": "stdout",
     "output_type": "stream",
     "text": [
      "Overwriting AvarB.py\n"
     ]
    }
   ],
   "source": [
    "%%writefile AvarB.py\n",
    "\n",
    "# Matrix A의 Row decomposition\n",
    "\n",
    "import numpy as np\n",
    "from mpi4py import MPI\n",
    "from tools import para_range\n",
    "\n",
    "comm = MPI.COMM_WORLD\n",
    "\n",
    "rank = comm.Get_rank()\n",
    "size = comm.Get_size()\n",
    "\n",
    "if rank == 0 :\n",
    "    A = np.load(\"A.npy\")\n",
    "    B = np.load(\"B.npy\")\n",
    "    n = A[0].size\n",
    "    n = comm.bcast(n, root = 0)\n",
    "else :\n",
    "    n = 0\n",
    "    n = comm.bcast(n, root = 0)\n",
    "    A = None\n",
    "    B = np.empty((n, n), dtype = np.float64)\n",
    "\n",
    "##### 행렬 A의 분할 범위\n",
    "ista, iend = para_range(n, size, rank) #FIX ME\n",
    "\n",
    "n_row = (iend - ista + 1) #FIX ME\n",
    "\n",
    "A_row = np.empty((n_row, n), dtype = np.float64)\n",
    "n_list = comm.gather(n_row * n, root = 0)\n",
    "\n",
    "##### 행렬 A의 분할\n",
    "comm.Scatterv([A, n_list], A_row, root = 0) #FIX ME\n",
    "comm.Bcast(B, root = 0)\n",
    "\n",
    "C_rows = np.matmul(A_row,B)\n",
    "\n",
    "print(C_rows, rank)"
   ]
  },
  {
   "cell_type": "code",
   "execution_count": 64,
   "metadata": {},
   "outputs": [
    {
     "name": "stdout",
     "output_type": "stream",
     "text": [
      "[[3.55933885 2.68755534 2.91479657 2.68343096 3.13622667 4.24653505\n",
      "  1.34100071 3.98939321 3.14327613 2.59644317]\n",
      " [2.9762361  2.43331644 1.82262527 1.66563843 2.05569196 2.51507972\n",
      "  1.33625425 2.66109537 2.53598422 1.9066874 ]\n",
      " [2.99319349 3.07641558 2.20794542 2.29301705 2.79072711 3.03242235\n",
      "  1.46365289 2.87137779 2.18693529 2.71765557]] 2\n",
      "[[2.6826069  2.65309421 1.95489435 2.15408649 2.39436101 2.80342462\n",
      "  1.41995297 2.79304207 2.41664541 1.96724264]\n",
      " [2.97310408 3.50137103 3.0442885  2.79891636 2.55238991 3.38425573\n",
      "  1.38250451 3.78127846 3.09987314 2.54323953]\n",
      " [3.17897934 3.20706715 2.60027798 2.93007947 3.08054083 2.57694642\n",
      "  1.52038116 3.08103388 3.03599842 2.99806167]\n",
      " [3.36838944 3.56373124 3.50546146 3.49957622 3.67368927 3.80750494\n",
      "  1.53323986 3.97391478 3.49488622 3.1345249 ]] 0\n",
      "[[2.53074187 2.74557879 2.01868724 2.44577043 2.54219079 3.15861836\n",
      "  1.46197454 2.49602078 2.27413066 2.14442767]\n",
      " [2.34483477 2.4647671  1.92909959 1.93603212 2.01298781 2.34926266\n",
      "  1.11137097 2.94240057 1.9732404  1.92400967]\n",
      " [3.50843192 3.01114581 2.38027008 2.13631684 2.35315996 3.13212192\n",
      "  1.60384757 3.50379224 2.75963474 2.60156954]] 1\n"
     ]
    }
   ],
   "source": [
    "! mpirun -np 3 python AvarB.py"
   ]
  },
  {
   "cell_type": "markdown",
   "metadata": {},
   "source": [
    "4. 행렬A의 행분할, 행렬 B의 열분할\n",
    "\n",
    "    <img src = \"images/image11.png\">"
   ]
  },
  {
   "cell_type": "code",
   "execution_count": 65,
   "metadata": {},
   "outputs": [
    {
     "name": "stdout",
     "output_type": "stream",
     "text": [
      "Overwriting ABvar.py\n"
     ]
    }
   ],
   "source": [
    "%%writefile ABvar.py\n",
    "\n",
    "import numpy as np\n",
    "from mpi4py import MPI\n",
    "from tools import para_range\n",
    "\n",
    "comm = MPI.COMM_WORLD\n",
    "\n",
    "rank = comm.Get_rank()\n",
    "size = comm.Get_size()\n",
    "\n",
    "if rank == 0 :\n",
    "    A = np.load(\"A.npy\")\n",
    "    B = np.load(\"B.npy\")\n",
    "    BT = np.transpose(B).copy()\n",
    "    n = A[0].size\n",
    "    n = comm.bcast(n, root = 0)\n",
    "\n",
    "else :\n",
    "    n = 0\n",
    "    n = comm.bcast(n, root = 0)\n",
    "    A = None\n",
    "    BT = None\n",
    "\n",
    "ista, iend = para_range(n, size, rank)\n",
    "\n",
    "n_row = (iend - ista + 1)\n",
    "\n",
    "A_row = np.empty((n_row, n), dtype = np.float64)\n",
    "BT_row = np.empty((n_row, n), dtype = np.float64)\n",
    "n_rows = comm.allgather(n_row * n)\n",
    "\n",
    "##### 행렬 A, B의 분할\n",
    "comm.Scatterv([A, n_rows], A_row, root = 0) #FIX ME\n",
    "comm.Scatterv([BT, n_rows], BT_row, root = 0) #FIX ME\n",
    "B_col = np.transpose(BT_row)\n",
    "\n",
    "inext = rank + 1 if rank < size - 1 else 0\n",
    "iprev = rank - 1 if rank > 0 else size - 1\n",
    "\n",
    "C_unordered_rows = np.matmul(A_row, B_col)\n",
    "\n",
    "for i in range(size - 1) :\n",
    "    iloc = iprev - i if iprev >= i else iprev - i + size\n",
    "    B_recv = np.empty(n_rows[iloc], dtype = np.float64)\n",
    "\n",
    "    ##### 분할된 행렬 B를 송수신하고 A의 분할된 부분과 곱하여 C에 저장\n",
    "    comm.Sendrecv(B_col, inext, 1, B_recv, iprev, 1) #FIX ME\n",
    "    B_col = np.copy(B_recv)\n",
    "    B_col = np.reshape(B_col, (n, int(n_rows[iloc]/n))) #FIX ME\n",
    "    C_block = np.matmul(A_row, B_col) #FIX ME\n",
    "    C_unordered_rows = np.append(C_unordered_rows, C_block, axis = 1) #FIX ME\n",
    "\n",
    "print(C_unordered_rows, rank)"
   ]
  },
  {
   "cell_type": "code",
   "execution_count": 66,
   "metadata": {},
   "outputs": [
    {
     "name": "stdout",
     "output_type": "stream",
     "text": [
      "[[2.6826069  2.65309421 1.95489435 2.15408649 3.02642898 2.58987778\n",
      "  2.32959485 2.13631834 2.55437644 1.55412349]\n",
      " [2.97310408 3.50137103 3.0442885  2.79891636 3.84402881 3.02797521\n",
      "  3.05487209 2.61902644 2.63315789 1.629111  ]\n",
      " [3.17897934 3.20706715 2.60027798 2.93007947 3.18416452 2.60633353\n",
      "  2.68287179 2.53311158 2.84829833 2.02024325]\n",
      " [3.36838944 3.56373124 3.50546146 3.49957622 3.89414878 2.96433186\n",
      "  3.13460905 3.37265242 3.42959369 2.23982589]] 0\n",
      "[[2.54219079 3.15861836 1.46197454 1.92804629 1.22457906 2.87358428\n",
      "  2.5712001  3.24680317 2.44887285 2.05770618]\n",
      " [2.01298781 2.34926266 1.11137097 1.64714964 1.66399601 2.87381109\n",
      "  2.71268562 2.42672795 2.1558859  1.90324371]\n",
      " [2.35315996 3.13212192 1.60384757 2.22968472 1.85614949 3.63360494\n",
      "  3.51445881 3.45687792 2.64769939 2.29748307]] 1\n",
      "[[3.98939321 3.14327613 2.59644317 3.18970825 2.77908999 2.69501872\n",
      "  2.70993843 2.19433999 4.4221759  3.42229425]\n",
      " [2.66109537 2.53598422 1.9066874  1.83118671 2.6975719  1.80984507\n",
      "  1.90046009 1.16650302 2.8552474  2.54403549]\n",
      " [2.87137779 2.18693529 2.71765557 2.84149501 2.1259691  2.10872031\n",
      "  1.83820233 1.75839901 3.58367924 3.26411794]] 2\n"
     ]
    }
   ],
   "source": [
    "! mpirun -np 3 python ABvar.py"
   ]
  },
  {
   "cell_type": "markdown",
   "metadata": {},
   "source": [
    "5. 직접 해보기\n",
    "    - 올바른 크기의 C를 미리 선언하고 적절한 위치에 C_block 을 배치\n",
    "    - 3의 C_rows와 같은 결과를 얻음\n"
   ]
  },
  {
   "cell_type": "markdown",
   "metadata": {},
   "source": []
  }
 ],
 "metadata": {
  "kernelspec": {
   "display_name": "Python 3 (ipykernel)",
   "language": "python",
   "name": "python3"
  },
  "language_info": {
   "codemirror_mode": {
    "name": "ipython",
    "version": 3
   },
   "file_extension": ".py",
   "mimetype": "text/x-python",
   "name": "python",
   "nbconvert_exporter": "python",
   "pygments_lexer": "ipython3",
   "version": "3.11.7"
  }
 },
 "nbformat": 4,
 "nbformat_minor": 4
}
